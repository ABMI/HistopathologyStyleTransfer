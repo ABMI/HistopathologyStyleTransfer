{
 "cells": [
  {
   "cell_type": "markdown",
   "metadata": {},
   "source": [
    "# InceptionV3 Cancer Classification"
   ]
  },
  {
   "cell_type": "code",
   "execution_count": null,
   "metadata": {},
   "outputs": [],
   "source": [
    "# Import some packages to use\n",
    "import cv2 \n",
    "import numpy as np \n",
    "import pandas as pd \n",
    "\n",
    "import matplotlib.pyplot as plt\n",
    "%matplotlib inline \n",
    "\n",
    "import os \n",
    "import random \n",
    "import gc "
   ]
  },
  {
   "cell_type": "markdown",
   "metadata": {},
   "source": [
    "#### Image set preparation"
   ]
  },
  {
   "cell_type": "code",
   "execution_count": null,
   "metadata": {},
   "outputs": [],
   "source": [
    "print(os.getcwd())"
   ]
  },
  {
   "cell_type": "code",
   "execution_count": null,
   "metadata": {},
   "outputs": [],
   "source": [
    "# Count Negative Images\n",
    "negative_path = '/home/ssj0921/SSJ/Data/20190731_Classification/TCIA/TCGA_Normal_256/' \n",
    "negative_list = []\n",
    "for (path, dir, files) in os.walk(negative_path):\n",
    "    for filename in files:\n",
    "        ext = os.path.splitext(filename)[-1]\n",
    "        if ext == '.jpg':\n",
    "            filePath = \"{0}/{1}\".format(path, filename)\n",
    "            # print(filePath)\n",
    "            negative_list.append(filePath)  \n",
    "\n",
    "# Create Data Frame\n",
    "# Negative = 0\n",
    "negative_df = pd.DataFrame(data={'filename': negative_list, \n",
    "                               'label': [0 for i in range(len(negative_list))]})\n",
    "\n",
    "len(negative_list), len(negative_df)"
   ]
  },
  {
   "cell_type": "code",
   "execution_count": null,
   "metadata": {},
   "outputs": [],
   "source": [
    "# Count Positive Images\n",
    "positive_path = '/home/ssj0921/SSJ/Data/20190731_Classification/TCIA/TCGA_Cancer_256/' \n",
    "positive_list = []\n",
    "for (path, dir, files) in os.walk(positive_path):\n",
    "    for filename in files:\n",
    "        ext = os.path.splitext(filename)[-1]\n",
    "        if ext == '.jpg':\n",
    "            filePath = \"{0}/{1}\".format(path, filename)\n",
    "            positive_list.append(filePath)\n",
    "\n",
    "# Create Data Frame\n",
    "# Positive = 1\n",
    "positive_df = pd.DataFrame(data={'filename': positive_list, \n",
    "                               'label': [1 for i in range(len(positive_list))]})\n",
    "\n",
    "len(positive_list), len(positive_df)"
   ]
  },
  {
   "cell_type": "code",
   "execution_count": null,
   "metadata": {},
   "outputs": [],
   "source": [
    "# Merge Cancer + Normal ImageList\n",
    "train_img = negative_list + positive_list\n",
    "roi_img_df = negative_df.append(positive_df)\n",
    "\n",
    "# Shuffle\n",
    "sh_df = roi_img_df.sample(frac=1).reset_index(drop=True)\n",
    "\n",
    "len(train_img), len(roi_img_df), len(sh_df)"
   ]
  },
  {
   "cell_type": "code",
   "execution_count": null,
   "metadata": {},
   "outputs": [],
   "source": [
    "len(sh_df)"
   ]
  },
  {
   "cell_type": "code",
   "execution_count": null,
   "metadata": {
    "scrolled": true
   },
   "outputs": [],
   "source": [
    "sh_df.head()"
   ]
  },
  {
   "cell_type": "code",
   "execution_count": null,
   "metadata": {},
   "outputs": [],
   "source": [
    "# Matplotlib을 이용하여 Image 읽기\n",
    "from matplotlib.image import imread\n",
    "\n",
    "im_list = []\n",
    "\n",
    "for path in sh_df['filename']:\n",
    "    img = imread(path)\n",
    "    im_list.append(img)"
   ]
  },
  {
   "cell_type": "code",
   "execution_count": null,
   "metadata": {},
   "outputs": [],
   "source": [
    "import matplotlib.pyplot as plt\n",
    "\n",
    "def showImage(img):\n",
    "    plt.imshow(img)    \n",
    "    plt.show()\n",
    "\n",
    "# Draw Image\n",
    "showImage(im_list[0])"
   ]
  },
  {
   "cell_type": "code",
   "execution_count": null,
   "metadata": {},
   "outputs": [],
   "source": [
    "# Seperate Color Image View\n",
    "def showImages(input_img):\n",
    "    f, axarr = plt.subplots(2,2)\n",
    "\n",
    "    axarr[0,0].imshow(input_img[...,0]) # R\n",
    "    axarr[0,1].imshow(input_img[...,1]) # G\n",
    "    axarr[1,0].imshow(input_img[...,2]) # B\n",
    "    \n",
    "    return\n",
    "\n",
    "showImages(im_list[0])"
   ]
  },
  {
   "cell_type": "code",
   "execution_count": null,
   "metadata": {},
   "outputs": [],
   "source": [
    "import numpy as np\n",
    "\n",
    "x = np.array(im_list)\n",
    "y = np.array(sh_df['label'])"
   ]
  },
  {
   "cell_type": "markdown",
   "metadata": {},
   "source": [
    "#### Image visualization"
   ]
  },
  {
   "cell_type": "code",
   "execution_count": null,
   "metadata": {},
   "outputs": [],
   "source": [
    "# Visualization\n",
    "def visualize_data(cancer_images, normal_images, N_TO_VISUALIZE):\n",
    "    # INPUTS\n",
    "    # positive_images - Images where the label = 1 (True)\n",
    "    # negative_images - Images where the label = 0 (False)\n",
    " \n",
    "    figure = plt.figure()\n",
    "    count = 0\n",
    " \n",
    "    for i in range(cancer_images.shape[0]):\n",
    "        count += 1\n",
    "        figure.add_subplot(2, cancer_images.shape[0], count)\n",
    "        plt.imshow(cancer_images[i, :, :])\n",
    "        plt.axis('off')\n",
    "        plt.title(\"Positive\".format(i))\n",
    " \n",
    "        figure.add_subplot(1, normal_images.shape[0], count)\n",
    "        plt.imshow(normal_images[i, :, :])\n",
    "        plt.axis('off')\n",
    "        plt.title(\"Negative\".format(i), y=-0.3)\n",
    "        \n",
    "    plt.show()"
   ]
  },
  {
   "cell_type": "code",
   "execution_count": null,
   "metadata": {},
   "outputs": [],
   "source": [
    "# Number of positive and negative examples to show\n",
    "N_TO_VISUALIZE = 5\n",
    " \n",
    "# Select the first N Cancer examples\n",
    "positive_example_indices = (y == 1)\n",
    "positive_examples = x[positive_example_indices, :, :]\n",
    "positive_examples = positive_examples[0:N_TO_VISUALIZE, :, :]\n",
    " \n",
    "# Select the first N Normal examples\n",
    "negative_example_indices = (y == 0)\n",
    "negative_examples = x[negative_example_indices, :, :]\n",
    "negative_examples = negative_examples[0:N_TO_VISUALIZE, :, :]\n",
    " \n",
    "# Call the visualization function\n",
    "visualize_data(positive_examples, negative_examples, N_TO_VISUALIZE)"
   ]
  },
  {
   "cell_type": "markdown",
   "metadata": {},
   "source": [
    "### [3] Image resize and data set split"
   ]
  },
  {
   "cell_type": "code",
   "execution_count": null,
   "metadata": {},
   "outputs": [],
   "source": [
    "from PIL import Image\n",
    "\n",
    "# Resize Image\n",
    "train = []\n",
    "\n",
    "for img in x:\n",
    "    arr = Image.fromarray(img)\n",
    "    res = arr.resize((299, 299))\n",
    "    train.append(np.array(res))\n",
    "    \n",
    "train = np.array(train)"
   ]
  },
  {
   "cell_type": "code",
   "execution_count": null,
   "metadata": {},
   "outputs": [],
   "source": [
    "from sklearn.model_selection import train_test_split\n",
    "\n",
    "# Split Data\n",
    "x_train, x_test, y_train, y_test = train_test_split(train, y, test_size=0.2)"
   ]
  },
  {
   "cell_type": "code",
   "execution_count": null,
   "metadata": {},
   "outputs": [],
   "source": [
    "# Generalize \n",
    "x_train = x_train.astype('float32')/255\n",
    "x_test = x_test.astype('float32')/255"
   ]
  },
  {
   "cell_type": "code",
   "execution_count": null,
   "metadata": {},
   "outputs": [],
   "source": [
    "print('training dataset =', len(x_train))\n",
    "print('training label =', len(y_train))\n",
    "\n",
    "print('test dataset =', len(x_test))\n",
    "print('test label =', len(y_test))"
   ]
  },
  {
   "cell_type": "markdown",
   "metadata": {},
   "source": [
    "## Call a Inception pretrained model"
   ]
  },
  {
   "cell_type": "code",
   "execution_count": null,
   "metadata": {},
   "outputs": [],
   "source": [
    "#import tensorflow as tf\n",
    "import tensorflow.compat.v1 as tf\n",
    "tf.disable_v2_behavior()"
   ]
  },
  {
   "cell_type": "code",
   "execution_count": null,
   "metadata": {},
   "outputs": [],
   "source": [
    "import keras\n",
    "from keras.applications import InceptionV3\n",
    "from keras import layers\n",
    "from keras import models\n",
    "from keras import regularizers\n",
    "from keras import optimizers\n",
    "\n",
    "from keras.models import Sequential\n",
    "from keras.layers import Dense, Activation"
   ]
  },
  {
   "cell_type": "code",
   "execution_count": null,
   "metadata": {},
   "outputs": [],
   "source": [
    "# 세션을 gpu의 메모리로 처리하도록 설정\n",
    "config = tf.ConfigProto()\n",
    "config.gpu_options.allow_growth = True\n",
    "# Now when creating your session pass this config to it.\n",
    "sess = tf.Session(config=config)"
   ]
  },
  {
   "cell_type": "code",
   "execution_count": null,
   "metadata": {},
   "outputs": [],
   "source": [
    "strategy = tf.distribute.MirroredStrategy()\n",
    "run_opts = tf.RunOptions(report_tensor_allocations_upon_oom = True)\n",
    "\n",
    "with strategy.scope():\n",
    "    \n",
    "    conv_base = InceptionV3(weights='imagenet', include_top=False, input_shape=(299, 299, 3))\n",
    "    \n",
    "    model = Sequential()\n",
    "    model.add(conv_base)\n",
    "    model.add(layers.Flatten())\n",
    "    model.add(layers.Dense(256, activation='relu', kernel_regularizer=regularizers.l2(0.01)))\n",
    "    model.add(layers.Dense(1, activation='sigmoid'))\n",
    "    \n",
    "    conv_base.trainable = True\n",
    "    \n",
    "    model.compile(loss='binary_crossentropy', \n",
    "                  optimizer=optimizers.RMSprop(lr=2e-5), metrics=['acc'], options = run_opts)\n",
    "    \n",
    "    #model.summary()"
   ]
  },
  {
   "cell_type": "code",
   "execution_count": null,
   "metadata": {},
   "outputs": [],
   "source": [
    "print('Number of trainable weights before freezing the conv base:', len(model.non_trainable_weights))\n",
    "print('Number of trainable weights after freezing the conv base:', len(model.trainable_weights))\n",
    "len(x_train), len(y_train)"
   ]
  },
  {
   "cell_type": "code",
   "execution_count": null,
   "metadata": {},
   "outputs": [],
   "source": [
    "from livelossplot.keras import PlotLossesCallback\n",
    "plot_losses_call_back = PlotLossesCallback()\n",
    "\n",
    "hist = model.fit(x_train, y_train, epochs=5, batch_size=10, \n",
    "                 validation_split=0.2, verbose=0,                 \n",
    "                 callbacks=[plot_losses_call_back])"
   ]
  },
  {
   "cell_type": "code",
   "execution_count": null,
   "metadata": {},
   "outputs": [],
   "source": [
    "fig, loss_ax = plt.subplots()\n",
    "\n",
    "acc_ax = loss_ax.twinx()\n",
    "\n",
    "plt.title('Training Process', fontsize=15)\n",
    "\n",
    "loss_ax.plot(hist.history['loss'], 'y', label='train loss')\n",
    "loss_ax.plot(hist.history['val_loss'], 'r', label='val loss')\n",
    "\n",
    "acc_ax.plot(hist.history['acc'], 'b', label='train acc')\n",
    "acc_ax.plot(hist.history['val_acc'], 'g', label='val acc')\n",
    "\n",
    "loss_ax.set_xlabel('epoch', fontsize=11)\n",
    "loss_ax.set_ylabel('loss', fontsize=11)\n",
    "acc_ax.set_ylabel('accuray', fontsize=11)\n",
    "\n",
    "loss_ax.legend(loc='upper left')\n",
    "acc_ax.legend(loc='lower left')\n",
    "\n",
    "fig = plt.gcf()\n",
    "plt.show()\n",
    "#fig.savefig('Class_InceptionV3_20190803.png')"
   ]
  },
  {
   "cell_type": "code",
   "execution_count": null,
   "metadata": {},
   "outputs": [],
   "source": [
    "# Test Data Set의 Normal/Cancer 비율 확인하기\n",
    "Normal = 0\n",
    "Cancer = 0\n",
    "\n",
    "for i in y_test:\n",
    "    if i == 1.0:\n",
    "        Normal += 1\n",
    "    else:\n",
    "        Cancer += 1\n",
    "        \n",
    "print('Normal:', Normal, ', Cancer:', Cancer)"
   ]
  },
  {
   "cell_type": "code",
   "execution_count": null,
   "metadata": {},
   "outputs": [],
   "source": [
    "# 테스트 데이터로 평가하기\n",
    "score = model.evaluate(x_test, y_test, verbose=1)\n",
    "print('loss=', score[0])\n",
    "print('accuracy=', score[1])"
   ]
  },
  {
   "cell_type": "code",
   "execution_count": null,
   "metadata": {},
   "outputs": [],
   "source": [
    "from sklearn.metrics import roc_auc_score, auc, roc_curve\n",
    "\n",
    "# Compute ROC curve and ROC area for each class\n",
    "fpr = dict()\n",
    "tpr = dict()\n",
    "roc_auc = dict()\n",
    "\n",
    "y_score = model.predict_proba(x_test)\n",
    "n_classes = y_test.shape[0]"
   ]
  },
  {
   "cell_type": "code",
   "execution_count": null,
   "metadata": {},
   "outputs": [],
   "source": [
    "import matplotlib.pyplot as plt\n",
    "from sklearn.metrics import roc_curve, auc\n",
    "\n",
    "lw = 2\n",
    "class_F = y_test\n",
    "proba_F = y_score\n",
    "\n",
    "false_positive_rate_F, true_positive_rate_F, thresholds_F = roc_curve(class_F, proba_F)\n",
    "roc_auc_F = auc(false_positive_rate_F, true_positive_rate_F)\n",
    "\n",
    "plt.title('Cancer Classification AUROC\\n(trained by TCIA)\\n(Internal Validation with TICA)', fontsize=15)\n",
    "plt.xlabel('False Positive Rate(1 - Specificity)', fontsize=13)\n",
    "plt.ylabel('True Positive Rate(Sensitivity)', fontsize=13)\n",
    "\n",
    "plt.plot(false_positive_rate_F, true_positive_rate_F, 'darkorange', \n",
    "         label='ROC curve (AUC = %0.5f)'% roc_auc_F)\n",
    "\n",
    "plt.plot([0, 1], [0, 1], color='navy', lw=lw, linestyle='--', label='Random guess')\n",
    "\n",
    "plt.legend(loc='lower right')\n",
    "plt.show()\n",
    "#fig.savefig('Cancer_AUROC_InceptionV3_E50_TCGA_20191118.png')"
   ]
  },
  {
   "cell_type": "code",
   "execution_count": null,
   "metadata": {},
   "outputs": [],
   "source": [
    "os.chdir('/home/ssj0921/SSJ/Model/')"
   ]
  },
  {
   "cell_type": "code",
   "execution_count": null,
   "metadata": {},
   "outputs": [],
   "source": [
    "os.listdir()"
   ]
  },
  {
   "cell_type": "code",
   "execution_count": null,
   "metadata": {},
   "outputs": [],
   "source": [
    "# 모델 저장하기\n",
    "from keras.models import load_model\n",
    "model.save('Model_Class_256_InceptionV3_E30_TCIA_20191101.h5')"
   ]
  }
 ],
 "metadata": {
  "kernelspec": {
   "display_name": "Python 3",
   "language": "python",
   "name": "python3"
  },
  "language_info": {
   "codemirror_mode": {
    "name": "ipython",
    "version": 3
   },
   "file_extension": ".py",
   "mimetype": "text/x-python",
   "name": "python",
   "nbconvert_exporter": "python",
   "pygments_lexer": "ipython3",
   "version": "3.6.9"
  }
 },
 "nbformat": 4,
 "nbformat_minor": 4
}
