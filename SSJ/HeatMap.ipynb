{
 "cells": [
  {
   "cell_type": "code",
   "execution_count": 1,
   "metadata": {},
   "outputs": [
    {
     "name": "stdout",
     "output_type": "stream",
     "text": [
      "/home/ssj0921/SSJ\n"
     ]
    }
   ],
   "source": [
    "import os\n",
    "print(os.getcwd())"
   ]
  },
  {
   "cell_type": "code",
   "execution_count": 65,
   "metadata": {},
   "outputs": [],
   "source": [
    "os.chdir('/home/ssj0921/SSJ/Data/20191205_Heatmap_UT_sample2/')"
   ]
  },
  {
   "cell_type": "code",
   "execution_count": 3,
   "metadata": {},
   "outputs": [
    {
     "name": "stderr",
     "output_type": "stream",
     "text": [
      "Using TensorFlow backend.\n"
     ]
    }
   ],
   "source": [
    "from keras.models import load_model\n",
    "model = load_model('/home/ssj0921/SSJ/Model/Model_Class_256_InceptionV3_E30_TCIA_20191101.h5')"
   ]
  },
  {
   "cell_type": "code",
   "execution_count": 111,
   "metadata": {},
   "outputs": [],
   "source": [
    "jpg_path = '/home/ssj0921/SSJ/Data/20191205_Heatmap_UT_sample2/images_fake_B_1600_jpg'\n",
    "jpg_list = []\n",
    "for (path, dir, files) in os.walk(jpg_path):\n",
    "    for filename in files:\n",
    "        ext = os.path.splitext(filename)[-1]\n",
    "        if ext == '.jpg':\n",
    "            filePath = \"{0}/{1}\".format(path, filename)\n",
    "            # print(filePath)\n",
    "            jpg_list.append(filePath)"
   ]
  },
  {
   "cell_type": "code",
   "execution_count": 112,
   "metadata": {},
   "outputs": [],
   "source": [
    "jpg_list.sort()"
   ]
  },
  {
   "cell_type": "code",
   "execution_count": 113,
   "metadata": {},
   "outputs": [
    {
     "data": {
      "text/plain": [
       "['/home/ssj0921/SSJ/Data/20191205_Heatmap_UT_sample2/images_fake_B_1600_jpg/sample_1TCGA-BK-A139-01C-08-BS8.A52ED78B-2752-43D5-A185-C329B9B38B74_2_00000_fake_B.jpg',\n",
       " '/home/ssj0921/SSJ/Data/20191205_Heatmap_UT_sample2/images_fake_B_1600_jpg/sample_1TCGA-BK-A139-01C-08-BS8.A52ED78B-2752-43D5-A185-C329B9B38B74_2_00001_fake_B.jpg',\n",
       " '/home/ssj0921/SSJ/Data/20191205_Heatmap_UT_sample2/images_fake_B_1600_jpg/sample_1TCGA-BK-A139-01C-08-BS8.A52ED78B-2752-43D5-A185-C329B9B38B74_2_00002_fake_B.jpg']"
      ]
     },
     "execution_count": 113,
     "metadata": {},
     "output_type": "execute_result"
    }
   ],
   "source": [
    "jpg_list[:3]"
   ]
  },
  {
   "cell_type": "code",
   "execution_count": 109,
   "metadata": {},
   "outputs": [
    {
     "data": {
      "text/plain": [
       "'sample_1TCGA-BK-A139-01C-08-BS8.A52ED78B-2752-43D5-A185-C329B9B38B74_2_00000_fake_B.jpg'"
      ]
     },
     "execution_count": 109,
     "metadata": {},
     "output_type": "execute_result"
    }
   ],
   "source": [
    "jpg_list[0].split('/')[7][:-4] + '.jpg'"
   ]
  },
  {
   "cell_type": "code",
   "execution_count": 110,
   "metadata": {},
   "outputs": [],
   "source": [
    "from PIL import Image\n",
    "\n",
    "for i in range(len(jpg_list)):\n",
    "    filename = jpg_list[i]\n",
    "    im = Image.open(filename)\n",
    "    rgb_im = im.convert('RGB')\n",
    "    save_name = jpg_list[i].split('/')[7][:-4] + '.jpg'\n",
    "    rgb_im.save('./images_fake_B_1600_jpg/' + save_name)"
   ]
  },
  {
   "cell_type": "code",
   "execution_count": 114,
   "metadata": {},
   "outputs": [],
   "source": [
    "from matplotlib.image import imread\n",
    "\n",
    "im_list = []\n",
    "\n",
    "for filename in jpg_list:\n",
    "    img = imread(filename)\n",
    "    im_list.append(img)"
   ]
  },
  {
   "cell_type": "code",
   "execution_count": 115,
   "metadata": {},
   "outputs": [
    {
     "data": {
      "text/plain": [
       "1600"
      ]
     },
     "execution_count": 115,
     "metadata": {},
     "output_type": "execute_result"
    }
   ],
   "source": [
    "len(im_list)"
   ]
  },
  {
   "cell_type": "code",
   "execution_count": 116,
   "metadata": {},
   "outputs": [
    {
     "data": {
      "text/plain": [
       "(256, 256, 3)"
      ]
     },
     "execution_count": 116,
     "metadata": {},
     "output_type": "execute_result"
    }
   ],
   "source": [
    "im_list[1].shape[0:]"
   ]
  },
  {
   "cell_type": "code",
   "execution_count": 117,
   "metadata": {},
   "outputs": [],
   "source": [
    "import numpy as np\n",
    "\n",
    "x = np.array(im_list)\n",
    "\n",
    "from PIL import Image\n",
    "\n",
    "# Resize Image\n",
    "hmap_img = []\n",
    "for n, img in enumerate(x):\n",
    "    arr = Image.fromarray(img)\n",
    "    res = arr.resize((299, 299))\n",
    "    hmap_img.append(np.array(res))\n",
    "    \n",
    "hmap_img = np.array(hmap_img)"
   ]
  },
  {
   "cell_type": "code",
   "execution_count": 118,
   "metadata": {},
   "outputs": [
    {
     "data": {
      "text/plain": [
       "1600"
      ]
     },
     "execution_count": 118,
     "metadata": {},
     "output_type": "execute_result"
    }
   ],
   "source": [
    "len(hmap_img)"
   ]
  },
  {
   "cell_type": "code",
   "execution_count": 119,
   "metadata": {},
   "outputs": [],
   "source": [
    "hmap_img = hmap_img / 255 # 정규화"
   ]
  },
  {
   "cell_type": "code",
   "execution_count": 120,
   "metadata": {},
   "outputs": [],
   "source": [
    "pre = model.predict(hmap_img)"
   ]
  },
  {
   "cell_type": "code",
   "execution_count": 121,
   "metadata": {},
   "outputs": [],
   "source": [
    "import pandas as pd"
   ]
  },
  {
   "cell_type": "code",
   "execution_count": 122,
   "metadata": {},
   "outputs": [],
   "source": [
    "# 두번째 컬럼 값만 가져오기\n",
    "new_img = []\n",
    "\n",
    "for predict in pre:\n",
    "    new_img.append(predict)"
   ]
  },
  {
   "cell_type": "code",
   "execution_count": 123,
   "metadata": {},
   "outputs": [
    {
     "data": {
      "text/plain": [
       "1600"
      ]
     },
     "execution_count": 123,
     "metadata": {},
     "output_type": "execute_result"
    }
   ],
   "source": [
    "len(new_img)"
   ]
  },
  {
   "cell_type": "code",
   "execution_count": 124,
   "metadata": {},
   "outputs": [],
   "source": [
    "# 가져온 두번째 컬럼 값을 array로 만들기\n",
    "hmap_arr = np.array(new_img)"
   ]
  },
  {
   "cell_type": "code",
   "execution_count": 125,
   "metadata": {},
   "outputs": [
    {
     "data": {
      "text/plain": [
       "1600"
      ]
     },
     "execution_count": 125,
     "metadata": {},
     "output_type": "execute_result"
    }
   ],
   "source": [
    "len(hmap_arr)"
   ]
  },
  {
   "cell_type": "code",
   "execution_count": 126,
   "metadata": {},
   "outputs": [],
   "source": [
    "hmap_mat = np.resize(hmap_arr, (40, 40))"
   ]
  },
  {
   "cell_type": "code",
   "execution_count": 127,
   "metadata": {},
   "outputs": [
    {
     "data": {
      "image/png": "[encoded data removed]",
      "text/plain": [
       "<Figure size 864x720 with 2 Axes>"
      ]
     },
     "metadata": {},
     "output_type": "display_data"
    }
   ],
   "source": [
    "from matplotlib import pyplot as plt\n",
    "from matplotlib import colors\n",
    "import seaborn as sns\n",
    "\n",
    "plt.figure(figsize=(12,10))\n",
    "sns.heatmap(hmap_mat, \n",
    "            cmap=sns.color_palette(\"Reds\", 255), # coolwarm, RdYlGn_r, Reds, Blues\n",
    "            #annot=True, # fmt='f',\n",
    "            xticklabels='', yticklabels='', linewidths=0.01, linecolor='white')\n",
    "plt.title('HeatMap of Slide with Cancer-region\\n(with TCIA-UT with style transfer)\\n(sample_2)',\n",
    "          fontsize=20)\n",
    "plt.show()"
   ]
  },
  {
   "cell_type": "code",
   "execution_count": 52,
   "metadata": {},
   "outputs": [
    {
     "data": {
      "text/plain": [
       "<Figure size 432x288 with 0 Axes>"
      ]
     },
     "metadata": {},
     "output_type": "display_data"
    }
   ],
   "source": [
    "#fig = plt.gcf()\n",
    "#plt.savefig('./heatmap_Cancer_20191204_AUMC.jpg')"
   ]
  },
  {
   "cell_type": "code",
   "execution_count": 35,
   "metadata": {},
   "outputs": [
    {
     "data": {
      "text/plain": [
       "([array([ 2.,  0.,  0.,  0.,  0.,  0.,  1.,  0.,  1., 36.]),\n",
       "  array([ 9.,  0.,  0.,  0.,  0.,  0.,  0.,  0.,  3., 28.]),\n",
       "  array([13.,  1.,  0.,  1.,  0.,  0.,  0.,  0.,  0., 25.]),\n",
       "  array([ 7.,  1.,  0.,  0.,  0.,  0.,  0.,  0.,  0., 32.]),\n",
       "  array([ 6.,  1.,  0.,  0.,  0.,  1.,  1.,  0.,  1., 30.]),\n",
       "  array([ 9.,  0.,  0.,  0.,  0.,  0.,  0.,  1.,  0., 30.]),\n",
       "  array([ 3.,  0.,  0.,  0.,  0.,  0.,  0.,  0.,  0., 37.]),\n",
       "  array([ 6.,  1.,  0.,  0.,  0.,  0.,  0.,  1.,  0., 32.]),\n",
       "  array([ 6.,  0.,  1.,  1.,  0.,  0.,  1.,  0.,  0., 31.]),\n",
       "  array([ 6.,  1.,  1.,  0.,  0.,  1.,  0.,  1.,  0., 30.]),\n",
       "  array([ 9.,  0.,  1.,  0.,  0.,  0.,  0.,  0.,  2., 28.]),\n",
       "  array([ 8.,  0.,  0.,  0.,  0.,  1.,  0.,  2.,  1., 28.]),\n",
       "  array([10.,  0.,  0.,  1.,  1.,  0.,  1.,  0.,  1., 26.]),\n",
       "  array([15.,  0.,  0.,  0.,  1.,  0.,  0.,  1.,  2., 21.]),\n",
       "  array([17.,  1.,  0.,  0.,  0.,  1.,  1.,  0.,  1., 19.]),\n",
       "  array([11.,  2.,  0.,  0.,  0.,  1.,  0.,  0.,  0., 26.]),\n",
       "  array([13.,  0.,  2.,  1.,  1.,  0.,  0.,  0.,  1., 22.]),\n",
       "  array([10.,  1.,  0.,  0.,  1.,  0.,  1.,  4.,  1., 22.]),\n",
       "  array([ 9.,  0.,  2.,  2.,  0.,  0.,  0.,  0.,  0., 27.]),\n",
       "  array([ 8.,  1.,  0.,  1.,  1.,  1.,  1.,  1.,  1., 25.]),\n",
       "  array([10.,  0.,  0.,  1.,  0.,  0.,  1.,  1.,  0., 27.]),\n",
       "  array([ 7.,  0.,  0.,  0.,  0.,  1.,  0.,  0.,  0., 32.]),\n",
       "  array([15.,  0.,  0.,  0.,  0.,  0.,  1.,  0.,  0., 24.]),\n",
       "  array([12.,  1.,  0.,  0.,  2.,  1.,  0.,  0.,  0., 24.]),\n",
       "  array([ 6.,  2.,  1.,  1.,  1.,  0.,  0.,  0.,  1., 28.]),\n",
       "  array([ 3.,  0.,  1.,  1.,  1.,  0.,  1.,  1.,  0., 32.]),\n",
       "  array([ 6.,  2.,  0.,  0.,  0.,  1.,  1.,  0.,  1., 29.]),\n",
       "  array([ 5.,  1.,  1.,  1.,  0.,  0.,  0.,  0.,  1., 31.]),\n",
       "  array([ 6.,  1.,  0.,  0.,  1.,  0.,  0.,  0.,  1., 31.]),\n",
       "  array([ 9.,  0.,  0.,  0.,  0.,  0.,  0.,  0.,  1., 30.]),\n",
       "  array([ 5.,  0.,  1.,  1.,  0.,  0.,  0.,  3.,  2., 28.]),\n",
       "  array([ 4.,  1.,  0.,  0.,  0.,  0.,  1.,  0.,  1., 33.]),\n",
       "  array([ 6.,  1.,  0.,  0.,  0.,  0.,  0.,  1.,  0., 32.]),\n",
       "  array([ 5.,  0.,  1.,  0.,  1.,  0.,  0.,  1.,  0., 32.]),\n",
       "  array([ 6.,  1.,  0.,  0.,  0.,  0.,  0.,  2.,  0., 31.]),\n",
       "  array([ 9.,  0.,  1.,  0.,  1.,  0.,  0.,  1.,  0., 28.]),\n",
       "  array([ 9.,  0.,  0.,  0.,  0.,  0.,  0.,  0.,  0., 31.]),\n",
       "  array([11.,  0.,  0.,  0.,  1.,  0.,  1.,  0.,  2., 25.]),\n",
       "  array([10.,  1.,  1.,  0.,  0.,  0.,  0.,  0.,  2., 26.]),\n",
       "  array([11.,  1.,  0.,  1.,  0.,  0.,  0.,  0.,  0., 27.])],\n",
       " array([3.12188342e-09, 1.00000003e-01, 2.00000002e-01, 3.00000002e-01,\n",
       "        4.00000002e-01, 5.00000002e-01, 6.00000001e-01, 7.00000001e-01,\n",
       "        8.00000001e-01, 9.00000000e-01, 1.00000000e+00]),\n",
       " <a list of 40 Lists of Patches objects>)"
      ]
     },
     "execution_count": 35,
     "metadata": {},
     "output_type": "execute_result"
    },
    {
     "data": {
      "image/png": "[encoded data removed]",
      "text/plain": [
       "<Figure size 432x288 with 1 Axes>"
      ]
     },
     "metadata": {},
     "output_type": "display_data"
    }
   ],
   "source": [
    "plt.hist(hmap_mat)"
   ]
  },
  {
   "cell_type": "code",
   "execution_count": null,
   "metadata": {},
   "outputs": [],
   "source": []
  }
 ],
 "metadata": {
  "kernelspec": {
   "display_name": "Python 3",
   "language": "python",
   "name": "python3"
  },
  "language_info": {
   "codemirror_mode": {
    "name": "ipython",
    "version": 3
   },
   "file_extension": ".py",
   "mimetype": "text/x-python",
   "name": "python",
   "nbconvert_exporter": "python",
   "pygments_lexer": "ipython3",
   "version": "3.5.2"
  }
 },
 "nbformat": 4,
 "nbformat_minor": 2
}
